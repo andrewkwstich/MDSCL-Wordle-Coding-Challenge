{
 "cells": [
  {
   "cell_type": "code",
   "execution_count": 1,
   "metadata": {},
   "outputs": [],
   "source": [
    "# Imports\n",
    "\n",
    "import random\n",
    "import solution"
   ]
  },
  {
   "cell_type": "markdown",
   "metadata": {},
   "source": [
    "## Wordle Solver\n",
    "\n",
    "Wordle is a word guessing game where the user must guess a 5 letter word within 6 guesses by guessing a single word at a time.  The player will then receive feedback on whether or not each letter in the word is:\n",
    "\n",
    "1. Not in the word at all. (False prediction)\n",
    "2. In the word, but not in the given position. (False position)\n",
    "3. In the word, at the guessed position. (True prediction)"
   ]
  },
  {
   "cell_type": "markdown",
   "metadata": {},
   "source": [
    "### Task 1: An English Wordle solver.\n",
    "\n",
    "#### Instructions\n",
    "\n",
    "There are many strategies to select words that will minimize the number of guesses that a player needs to make: choose a word with as many unguessed letters as possible, to obtain information about each letter; maximize choices to consist of the most common letters; maximize choices to consist of letters in their most frequent positions, etc.\n",
    "\n",
    "Your task is this.  Given a list of acceptable words in \"English_words.txt\" (we're changing things up a bit, and giving you words of length *6*, instead of length 5), decide upon a strategy to choose the most likely solution. You are free to use any strategy you want.\n",
    "\n",
    "You will likely want to write functions that can:\n",
    "\n",
    "1. read a list of words into a data structure\n",
    "2. perform some statistical analysis of the data\n",
    "3. update the list, given the response of the Wordle game.  All you need to know about the algorithm is that it will accept a suggestion for the word, and will return a list that will correspond to one of the three options cited above.  For example, if the solution is \"parse\", and you provide \"morph\", the algorithm will return. [-1,-1,1,0,-1] (ie, the character at position \"2\" is true, and the one at position \"3\" is a false position; everything else is a false prediction). You will likely need to make different decisions, depending on the results.  You are *strongly* encouraged to test this functionality thoroughly.\n",
    "4. If you have guessed the word (ie, the return of the algorithm is [1,1,1,1,1]), then you are done, and you have won the game!  Good job!  If not, then you will need to recalculate the most likely word, given your strategy."
   ]
  },
  {
   "cell_type": "markdown",
   "metadata": {},
   "source": [
    "You are free to tackle this problem however you see fit, but here are some strategies that might work:\n",
    "    * Find common letter distribution patterns (do you want to use extra data?)\n",
    "    * Find common positional letter distributions\n",
    "    * Keep track of valid words, and score them according to your statistics, always choosing the most likely one.\n",
    "    * Choose the one that gives you the most information (not necessarily the same as the previous point).\n",
    "    * Choose the one that eliminates the most remaining letters.\n",
    "    * Pick a starting word at random\n",
    "    * Pick a starting word that is filled with common letters\n",
    "    * Pick a starting word that has all different letters\n",
    "    * etc.  Have fun!"
   ]
  },
  {
   "cell_type": "code",
   "execution_count": 2,
   "metadata": {},
   "outputs": [],
   "source": [
    "# Change file path as appropriate\n",
    "\n",
    "file_path = \"\""
   ]
  },
  {
   "cell_type": "markdown",
   "metadata": {},
   "source": [
    "#### Evaluation\n",
    "\n",
    "From the list of words we provided, we will have selected 1000 of them, and calculate the average number of guesses your system needs to correctly identify the word (unlike the true Wordle, we will not cap guesses at 6).  The team with the best average score will earn a bonus percentage point on the Capstone; the second-best team will earn a half-point. All of the words in the word list are relatively common (they appear at least twice in the Brown corpus). You will need to submit your code, as well as instructions on how to run it.  An example of the evaluation code is provided below."
   ]
  },
  {
   "cell_type": "code",
   "execution_count": 3,
   "metadata": {},
   "outputs": [],
   "source": [
    "def giveFeedback(gold, prediction):  # Provided\n",
    "    '''\n",
    "       Provided two lists, (the reason we use lists, \n",
    "       and not strings, is because of part 2 of this assignment)\n",
    "       return a list that indicates whether a letter is in the\n",
    "       right location (1), is in the word, \n",
    "       but not in the right location (0), \n",
    "       or is not in the word at all (-1)\n",
    "\n",
    "       Params:\n",
    "\n",
    "           gold - a list of strings corresponding to letters in the secret word\n",
    "           prediction - a list of strings corresponding to letters in the guess\n",
    "\n",
    "       Return values:\n",
    "\n",
    "           feedback - a list of integers in the range [-1-1], of the same length as the secret word\n",
    "    '''\n",
    "    feedback = []\n",
    "    if(len(gold) != len(prediction)):\n",
    "        return feedback\n",
    "\n",
    "    for i in range(len(gold)):\n",
    "        if(gold[i] == prediction[i]):  #The easiest possibility: we got the prediction right\n",
    "            feedback.append(1)\n",
    "        elif(prediction[i] in gold):   #If the letter is somewhere in the gold word\n",
    "            feedback.append(0)\n",
    "        else:\n",
    "            feedback.append(-1)        #If the predicted letter is nowhere in the gold word\n",
    "\n",
    "    return feedback\n"
   ]
  },
  {
   "cell_type": "code",
   "execution_count": 4,
   "metadata": {},
   "outputs": [
    {
     "data": {
      "text/plain": [
       "[1, 1, 1, -1, 1]"
      ]
     },
     "execution_count": 4,
     "metadata": {},
     "output_type": "execute_result"
    }
   ],
   "source": [
    "giveFeedback(list(\"story\"), list(\"stony\"))"
   ]
  },
  {
   "cell_type": "markdown",
   "metadata": {},
   "source": [
    "#### Basic logic\n",
    "\n",
    "In the evaluation loop, we are going to be calling a `remove_words` function based on the feedback to filter the words to the ones that are possible given the most recent feedback. This generates a new \"active\" file (see the evaluation loop below) which serves as the input to our `make_guess` function."
   ]
  },
  {
   "cell_type": "code",
   "execution_count": 5,
   "metadata": {},
   "outputs": [],
   "source": [
    "def remove_words(file, guess, feedback):\n",
    "    \n",
    "    with open(file_path + file) as f:\n",
    "        word_list=[line.strip() for line in f.readlines()]\n",
    "\n",
    "    to_remove = []\n",
    "\n",
    "    for i, num in enumerate(feedback):\n",
    "        if num == 1:\n",
    "            for word in word_list:\n",
    "                if word[i] != guess[i]:\n",
    "                    to_remove.append(word)\n",
    "\n",
    "        if num == -1:\n",
    "            for word in word_list:\n",
    "                for char in word:\n",
    "                    if char == guess[i]:\n",
    "                        to_remove.append(word)\n",
    "                        \n",
    "        if num == 0:\n",
    "            for word in word_list:\n",
    "                if word[i] == guess[i]:\n",
    "                    to_remove.append(word)\n",
    "                if guess[i] not in word:\n",
    "                    to_remove.append(word)\n",
    "\n",
    "    for word in to_remove:\n",
    "        if word in word_list:\n",
    "            word_list.remove(word)\n",
    "\n",
    "    with open(file_path + file, \"w\") as f:\n",
    "        for word in word_list:\n",
    "            f.write(word + \"\\n\")"
   ]
  },
  {
   "cell_type": "markdown",
   "metadata": {},
   "source": [
    "### How to run our code in the loop\n",
    "\n",
    "Below is an example of how to run our code. For each word in the test set, make as many guesses as desired; keep track of the number of guesses as this is required as an argument to the `make_guess` function for the code to get the best results. After generating the guess, get the feedback using the `giveFeedback` function, and input this to the `remove_words` function along with the active list of words and the feedback."
   ]
  },
  {
   "cell_type": "code",
   "execution_count": 6,
   "metadata": {
    "tags": []
   },
   "outputs": [
    {
     "name": "stdout",
     "output_type": "stream",
     "text": [
      "3.21\n"
     ]
    }
   ],
   "source": [
    "english_list = solution.english_list\n",
    "golds = random.sample(english_list, 1000)\n",
    "\n",
    "with open(file_path + \"active_list.txt\", \"w\") as f:\n",
    "    for word in english_list:\n",
    "        f.write(word + \"\\n\")\n",
    "\n",
    "num_guesses = []\n",
    "\n",
    "for gold in golds:\n",
    "    with open(file_path + \"active_list.txt\", \"w\") as f:\n",
    "        for word in english_list:\n",
    "            f.write(word + \"\\n\")\n",
    "    guess_count = 0\n",
    "    guess = \"\"\n",
    "    while guess != gold:\n",
    "        guess = solution.make_guess(\"active_list.txt\", guess_count)\n",
    "        guess_count += 1\n",
    "        if guess == gold:\n",
    "            num_guesses.append(guess_count)\n",
    "            break\n",
    "        feedback = giveFeedback(gold, guess)\n",
    "        remove_words(\"active_list.txt\", guess, feedback)\n",
    "\n",
    "print(sum(num_guesses)/len(num_guesses))"
   ]
  },
  {
   "cell_type": "markdown",
   "metadata": {},
   "source": [
    "The Pseudocode of the evaluation is as follows: \n",
    "    \n",
    "AVERAGE_COUNT:=0\n",
    "\n",
    "FOR: WORD IN GOLD WORD_LIST: <br>\n",
    "     &ensp; COUNT:=0 <br>\n",
    "     &ensp; FEEDBACK:=NONE <br>\n",
    "     &ensp; WHILE: GUESS != WORD: <br>\n",
    "         &ensp; &ensp; GUESS = YOUR_FUNCTION.MAKE_GUESS(FEEDBACK) <br>\n",
    "         &ensp; &ensp; FEEDBACK = GIVE_FEEDBACK(WORD, GUESS) <br>\n",
    "         &ensp; &ensp; COUNT += 1 <br>\n",
    "     &ensp; AVERAGE_COUNT+=COUNT <br>\n",
    "AVERAGE_COUNT /= WORD_LIST.SIZE\n",
    "\n",
    "\n",
    "Your \"make_guess\" function should take in feedback in the form described above (possibly an empty list, for the first turn), and calculate the most likely word, given your calculations.  Note that each call to the function will re-instantiate your code, so you might want to keep track of the valid words somewhere - do not use global variables!\n",
    "\n"
   ]
  },
  {
   "cell_type": "markdown",
   "metadata": {},
   "source": [
    "### Task 2: A Gitksan Wordle solver.\n",
    "\n",
    "Gitksan is the language of the Gitxsan people of British Columbia.  It belongs to the Tsimshianic language family, and has far fewer speakers than English.  The traditional territories consist of 50,000 square km in the Skeena river watershed (pictured below).  The language is written using a modified version of the Latin alphabet, with both digraphs/trigraphs (two/three letters that represent one sound, like 'th' in English) and diacritics (accents or markings that change the meaning of the letter).  For example, \"hl\" is considered one letter, representing a single sound, as is <ins>k</ins>.  The letters used in Gitksan are as follow (sourced from : Gitksan, by Jason Brown, Henry Davis, Michael Schwan and Barbara Sennott).  Thanks to the Gitksan Lab in the UBC department of Linguistics for providing the dictionary, and being very enthusiastic about this coding problem.  \n",
    "<img src=\"img/Skeena_river_basin_map.png\" alt=\"Traditional Gitxsan territory\" width=\"200\"/>\n",
    "\n",
    "p\n",
    "b\n",
    "d\n",
    "t\n",
    "k\n",
    "kw\n",
    "<ins>k</ins>\n",
    "gy\n",
    "gw\n",
    "<ins>g</ins>\n",
    "ts\n",
    "j\n",
    "p'\n",
    "t'\n",
    "ky'\n",
    "kw'\n",
    "<ins>k</ins>'\n",
    "ts'\n",
    "tl'\n",
    "m\n",
    "n\n",
    "s\n",
    "x\n",
    "xw\n",
    "<ins>x</ins>\n",
    "h\n",
    "hl\n",
    "y\n",
    "w\n",
    "l\n",
    "'m\n",
    "'n\n",
    "'l\n",
    "'y\n",
    "'w\n",
    "i\n",
    "ii\n",
    "ee\n",
    "a\n",
    "aa\n",
    "oo\n",
    "u\n",
    "uu\n",
    "\n",
    "Now, you will need to add an additional step of breaking your words into characters, and recalculating your statistics based on those letters.  'laaxw' (\"trout\") is not [l, a, a, x, w], but rather, [l, aa, xw]. In the provided 'Gitksan5.txt' file, underlined characters are represented with a following underscore: _. You will have to determine your own way of segmenting the data to represent Gitksan letters.\n",
    "    \n",
    "There may be instances where you have to make a choice in how a word is segmented, and it may impact your results slightly.  It would take a certain level of fluency in Gitksan to always get this correct, but don't worry - consistency is more important than 100% accuracy.\n",
    "    \n",
    "    "
   ]
  },
  {
   "cell_type": "markdown",
   "metadata": {},
   "source": [
    "#### Evaluation (code not provided)\n",
    "\n",
    "Just as with the English solver, we will evaluate on a set of words, and the team with the lowest average number of guesses will win a bonus percentage point.  The team in second place will win a half a percentage point.  This applies to both parts - theoretically, one team could win 2 percentage points.\n",
    "\n",
    "Since we only have limited data for Gitksan, we will consider one of the largest subsets within the data - words of 5 characters.  We are counting digraphs / trigraphs as 1 character, and the space is also 1 character.  There are ~200 5 \"letter\" words in the data set - we will evaluate on a random selection of 100 of them."
   ]
  },
  {
   "cell_type": "code",
   "execution_count": 7,
   "metadata": {
    "tags": []
   },
   "outputs": [
    {
     "name": "stdout",
     "output_type": "stream",
     "text": [
      "3.0869565217391304\n"
     ]
    }
   ],
   "source": [
    "gitksan_list = solution.gitksan_list\n",
    "gitksan_golds = random.sample(gitksan_list, len(gitksan_list)//2)\n",
    "\n",
    "with open(file_path + \"active_list.txt\", \"w\") as f:\n",
    "    for word in gitksan_list:\n",
    "        f.write(solution.encode_word(word) + \"\\n\")\n",
    "\n",
    "num_guesses = []\n",
    "\n",
    "for gold in gitksan_golds:\n",
    "    with open(file_path + \"active_list.txt\", \"w\") as f:\n",
    "        for word in gitksan_list:\n",
    "            f.write(solution.encode_word(word) + \"\\n\")\n",
    "    guess_count = 0\n",
    "    guess = \"\"\n",
    "    gold = solution.encode_word(gold)\n",
    "    while guess != gold:\n",
    "        guess = solution.make_guess_gitksan(\"active_list.txt\", guess_count)\n",
    "        guess_count += 1\n",
    "        if guess == gold:\n",
    "            assert solution.encode_word(gold, \"decode\") in gitksan_list  # Ensuring we are guessing a real word\n",
    "            num_guesses.append(guess_count)\n",
    "        feedback = giveFeedback(gold, guess)\n",
    "        remove_words(\"active_list.txt\", guess, feedback)\n",
    "\n",
    "print(sum(num_guesses)/len(num_guesses))"
   ]
  }
 ],
 "metadata": {
  "kernelspec": {
   "display_name": "Python 3 (ipykernel)",
   "language": "python",
   "name": "python3"
  },
  "language_info": {
   "codemirror_mode": {
    "name": "ipython",
    "version": 3
   },
   "file_extension": ".py",
   "mimetype": "text/x-python",
   "name": "python",
   "nbconvert_exporter": "python",
   "pygments_lexer": "ipython3",
   "version": "3.9.9"
  }
 },
 "nbformat": 4,
 "nbformat_minor": 4
}
